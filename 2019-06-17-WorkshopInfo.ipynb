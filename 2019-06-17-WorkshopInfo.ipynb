{
 "cells": [
  {
   "cell_type": "markdown",
   "metadata": {},
   "source": [
    "\n",
    "# 2019-06-17 Mini ML Workshop\n",
    "\n",
    "You can find the formal agenda is on [indico](https://indico.slac.stanford.edu/event/146/) (will be filled!). This is an informal (but probably better) memo about the event.\n",
    "\n",
    "## Goals\n",
    "* Day 1: **ML-crash-course**\n",
    "  * Learn basics of gradient-based training ML algorithms\n",
    "  * Learn how CNN works and applications in computer vision\n",
    "* Day 2-5: **Code-sprint**\n",
    "  * **Bring in your challenge and solve it!** No need to be ML: developing software stacks for ML algorithm development, jupyter notebooks for new comers, anything is fine.\n",
    "  * **Build connections with other researchers applying machine learning.** Share techniques and insights. How to access data fast? What's the best way to visualize? What are the most suited ML algorithms for you?\n",
    "  * **Provide an excuse** to skip all boring meetings, nullify responsibility to reply emails during the workshop, so that you can just code!\n",
    "  \n",
    "## List of participants\n",
    "Find everyone else signed up [here](https://docs.google.com/spreadsheets/d/1PMvKmPd6qf5Ht-AAD0-M_UNUgx3UmeRDuulyLIX_oJw/edit?usp=sharing).\n",
    "Contact each other and form a team, join the code-sprint!\n",
    "  \n",
    "## Code-sprint Teams \n",
    "If you want to join the existing team, you should contact the leaders. Note that, for some teams, you cannot expect to join on-the-fly (e.g. might expect some domain-expert knowledge). Make sure to check with the leaders.\n",
    "\n",
    "1. **HEP - Neutrino** - [Patrick Tsang](mailto:kvtsang@slac.stanford.edu) / [Michael Mooney](mailto:mrmooney@colostate.edu) lead about 10 people will work on LArTPC (neutrino detector) physics analysis chain implementation using 3D sparse CNN techniques\n",
    "\n",
    "\n",
    "2. **Accelerator** - [Auralee Edelen](mailto:edelen@slac.stanford.edu) will work on tools development to apply sparse CNN or GNN for accelerator dataset. She will be there till Wednesday but absent on Thursday/Friday. Anyone who knows this problem and is interested in, please contact Auralee and make the plan!\n",
    "\n",
    "\n",
    "3. **Cryo-EM** - [Frederic Poitevin](mailto:frederic.poitevin@gmail.com) will work on developing jupyter notebooks to interface Cryo-EM data for new comers to his group (and possibly some algorithms development, TBD). \n",
    "\n",
    "\n",
    "4. **LCLS-CookieBox** - [Audrey Corbeil Therrien](mailto:therria@slac.stanford.edu) will work on LCLS Cookiebox data pipeline in preparation to be implemented in future on FPGA.\n",
    "\n",
    "\n",
    "5. **Your Project** - **Your Name Here**"
   ]
  },
  {
   "cell_type": "markdown",
   "metadata": {},
   "source": [
    "# Preparation for the workshop\n",
    "For the lectures, there is not much to prepare: we assume you are familiar with basic calculus (e.g. chain rules) and no alergy on comic-sans. Kidding, we won't use comic-sans.\n",
    "\n",
    "For the hands-on, we will use python(3) and assume you are familiar with the language. In addition, we assume you are familiar with numpy and Jupyter notebook to some extent. Also we will use data visualization tools like matplotlib. \n",
    "\n",
    "You don't have to be a master of those tools (I'm not)! If you use them in your daily research work, that's probably enough. Read the next section to see if you need extra preparation. If you are sure you don't know those tools enough, skip to the last section.\n",
    "\n",
    "## Do I need preparation?\n",
    "\n",
    "Here is a list of pre-workshop practice materials. We assume you understand the contents of these notebooks. The links below will open your notebook on Google colaboratory, and you can try to run the code by yourself. All notebooks are available in the [github repository](https://github.com/drinkingkazu/2019-06-17-NeuralNets). Feel free to [shoot me questions](mailto:kterao@slac.stanford.edu). \n",
    "\n",
    "* 5 minutes introduction to Google Colaboratory\n",
    "* 5 minutes introduction to Jupyter notebook\n",
    "* 5 minutes intorduction to image data in python\n",
    "* 5 minutes pytorch tensor playground\n",
    "\n",
    "The last item requires GPU, which is available for free on Google colaboratory. Read the first notebook to remind yourself how to enable GPU!\n",
    "\n",
    "## I do need preparation\n",
    "Below is the list of online example materials that may be useful for learning about basics of tools we will use.\n",
    "\n",
    "* [Introduction to Python](https://www.kaggle.com/learn/python)\n",
    "* [Jupyter Notebook](http://arogozhnikov.github.io/2016/09/10/jupyter-features.html#Writing-formulae-in-latex)\n",
    "* Extra: [Pandas](https://www.kaggle.com/learn/pandas)"
   ]
  },
  {
   "cell_type": "code",
   "execution_count": null,
   "metadata": {},
   "outputs": [],
   "source": []
  }
 ],
 "metadata": {
  "kernelspec": {
   "display_name": "Python 2",
   "language": "python",
   "name": "python2"
  },
  "language_info": {
   "codemirror_mode": {
    "name": "ipython",
    "version": 2
   },
   "file_extension": ".py",
   "mimetype": "text/x-python",
   "name": "python",
   "nbconvert_exporter": "python",
   "pygments_lexer": "ipython2",
   "version": "2.7.12"
  }
 },
 "nbformat": 4,
 "nbformat_minor": 2
}
